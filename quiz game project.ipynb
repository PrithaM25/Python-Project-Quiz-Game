{
 "cells": [
  {
   "cell_type": "code",
   "execution_count": 3,
   "id": "f6eb3a71-48dd-4669-bc84-61198b514df3",
   "metadata": {},
   "outputs": [
    {
     "name": "stdout",
     "output_type": "stream",
     "text": [
      "Welcome to my computer quiz! \n"
     ]
    },
    {
     "name": "stdin",
     "output_type": "stream",
     "text": [
      "Do you Want to play?  yes\n"
     ]
    },
    {
     "name": "stdout",
     "output_type": "stream",
     "text": [
      "Okay! let's play!\n"
     ]
    },
    {
     "name": "stdin",
     "output_type": "stream",
     "text": [
      "How many months are there in a year? Twelve\n"
     ]
    },
    {
     "name": "stdout",
     "output_type": "stream",
     "text": [
      "Correct!\n"
     ]
    },
    {
     "name": "stdin",
     "output_type": "stream",
     "text": [
      "which is the highest peak in the world? Mount Everest\n"
     ]
    },
    {
     "name": "stdout",
     "output_type": "stream",
     "text": [
      "Correct!\n"
     ]
    },
    {
     "name": "stdin",
     "output_type": "stream",
     "text": [
      "what is the currency of USA? Rupees\n"
     ]
    },
    {
     "name": "stdout",
     "output_type": "stream",
     "text": [
      "Incorrect!\n",
      "you got2questions correct\n",
      "you got50.0%.\n"
     ]
    }
   ],
   "source": [
    "print(\"Welcome to my computer quiz! \")\n",
    "\n",
    "playing=input(\"Do you Want to play? \")\n",
    "\n",
    "if playing.lower()!= \"yes\":\n",
    "    quit()\n",
    "\n",
    "print(\"Okay! let's play!\")\n",
    "score=0\n",
    "\n",
    "answer=input(\"How many months are there in a year?\")\n",
    "if answer== \"Twelve\":\n",
    "    print(\"Correct!\")\n",
    "    score += 1\n",
    "else:\n",
    "    print(\"Incorrect!\")\n",
    "\n",
    "answer=input(\"which is the highest peak in the world?\")\n",
    "if answer== \"Mount Everest\":\n",
    "    print(\"Correct!\")\n",
    "    score += 1\n",
    "else:\n",
    "    print(\"Incorrect!\")\n",
    "\n",
    "answer=input(\"what is the currency of USA?\")\n",
    "if answer== \"Dollar\":\n",
    "    print(\"Correct!\")\n",
    "    score += 1\n",
    "else:\n",
    "    print(\"Incorrect!\")\n",
    "\n",
    "print(\"you got\" + str(score) + \"questions correct\")\n",
    "print(\"you got\" + str((score/4) *100) + \"%.\")\n"
   ]
  },
  {
   "cell_type": "code",
   "execution_count": null,
   "id": "e13d58e5-f84d-48e5-893e-06701225e21a",
   "metadata": {},
   "outputs": [],
   "source": []
  }
 ],
 "metadata": {
  "kernelspec": {
   "display_name": "Python 3 (ipykernel)",
   "language": "python",
   "name": "python3"
  },
  "language_info": {
   "codemirror_mode": {
    "name": "ipython",
    "version": 3
   },
   "file_extension": ".py",
   "mimetype": "text/x-python",
   "name": "python",
   "nbconvert_exporter": "python",
   "pygments_lexer": "ipython3",
   "version": "3.12.2"
  }
 },
 "nbformat": 4,
 "nbformat_minor": 5
}
